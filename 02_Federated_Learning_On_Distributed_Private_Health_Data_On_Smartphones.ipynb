{
 "cells": [
  {
   "cell_type": "markdown",
   "metadata": {},
   "source": [
    "# Federated Learning On Distributed Private Health Data On Smartphones\n",
    "\n",
    "The **smartphones of the people probably carry the most valueable but also private data**. Since using data promisses to be one of the best ways to fight back against COVID-19, it is highly desirable to get access.\n",
    "\n",
    "\n",
    "By using a **[Federated Learning](https://federated.withgoogle.com/)** approach with PySyft it is possible to **learn from the private data right on the smartphone, with the data never leaving the device**.\n",
    "\n",
    "\n",
    "# Approach\n",
    "\n",
    "1. Since there is no private dataset with health data during a virus outbreak, a **simulated dataset has been used to show the prove of concept**.\n",
    "2. The **dataset contains the health status of each person** (e.g. temperature, movement, ... ) for several days during the virus outbreak.\n",
    "3. Using PySyft-Workers the **data for each single person is distributed to a worker** (virtual smartphone). Therefor each worker only knows its own health status.\n",
    "4. A **simple feedforward network is send to each worker during the training process**. The learning takes place directly on the virtual smartphone itself and an updated network is returned to the host. This way the data did never leave the smartphone and stays protected. \n",
    "5. The **target variable to predict is the total number of infected people** in this notebook.\n",
    "\n",
    "# Conclusion\n",
    "\n",
    "It is **possible to make us of the private health data of the people without lowering the protection of the data**.  \n",
    "The notebook can be seen as prove of concept that learning on distributed individual health data can start a learning process in neural network. \n",
    "\n",
    "\n",
    "# Limitations (With Possible Solutions)\n",
    "\n",
    "**Limitation:**  \n",
    "Simulated data without a connection to the real world has been used.  \n",
    "**Solution:**  \n",
    "Exchanging the dataset and adjusting the code should be pretty easy.\n",
    "\n",
    "\n",
    "**Limitation:**  \n",
    "A trusted App with permission to store private health data on the device is needed on many smartphones.  \n",
    "**Solution:**  \n",
    "Probably another team created a similar App during the hackathon or there is an existing one already out there. Merging this approach with such an App is necessary. \n",
    "\n",
    "\n",
    "**Limitation:**  \n",
    "The hardware limitations have been very strict for this notebook.  \n",
    "**Solution:**  \n",
    "Running the simulation and training process on a much larger scale should indicate if the approach is promising.\n",
    "\n",
    "\n",
    "\n",
    "# 1. Import Libraries"
   ]
  },
  {
   "cell_type": "code",
   "execution_count": 1,
   "metadata": {
    "ExecuteTime": {
     "end_time": "2020-03-22T15:07:51.687203Z",
     "start_time": "2020-03-22T15:07:49.605589Z"
    }
   },
   "outputs": [
    {
     "name": "stderr",
     "output_type": "stream",
     "text": [
      "Falling back to insecure randomness since the required custom op could not be found for the installed version of TensorFlow. Fix this by compiling custom ops. Missing file was '/home/morris/anaconda3/lib/python3.7/site-packages/tf_encrypted/operations/secure_random/secure_random_module_tf_1.15.2.so'\n"
     ]
    },
    {
     "name": "stdout",
     "output_type": "stream",
     "text": [
      "WARNING:tensorflow:From /home/morris/anaconda3/lib/python3.7/site-packages/tf_encrypted/session.py:24: The name tf.Session is deprecated. Please use tf.compat.v1.Session instead.\n",
      "\n"
     ]
    }
   ],
   "source": [
    "# To comunicate with decentralised devices\n",
    "import syft as sy\n",
    "\n",
    "# To do linear algebra\n",
    "import numpy as np\n",
    "\n",
    "# To store data\n",
    "import pandas as pd\n",
    "\n",
    "# To get progression bars\n",
    "from tqdm import tqdm\n",
    "\n",
    "# To create neural networks\n",
    "import torch\n",
    "import torch.nn as nn\n",
    "import torch.optim as optim\n",
    "import torch.nn.functional as F\n",
    "\n",
    "# To create plots\n",
    "import matplotlib.pyplot as plt\n",
    "\n",
    "# To transform the input data\n",
    "from torchvision import transforms\n",
    "\n",
    "# To standardize the dataset\n",
    "from sklearn.preprocessing import StandardScaler"
   ]
  },
  {
   "cell_type": "markdown",
   "metadata": {},
   "source": [
    "# 2. Setup Variables, Functions And Classes"
   ]
  },
  {
   "cell_type": "code",
   "execution_count": 2,
   "metadata": {
    "ExecuteTime": {
     "end_time": "2020-03-22T15:07:51.708380Z",
     "start_time": "2020-03-22T15:07:51.689090Z"
    }
   },
   "outputs": [],
   "source": [
    "# Arguments for learning process\n",
    "class Arguments():\n",
    "    def __init__(self):\n",
    "        self.batch_size = 64\n",
    "        self.test_batch_size = 1000\n",
    "        self.epochs = 10\n",
    "        self.lr = 0.01\n",
    "        self.momentum = 0.5\n",
    "        self.no_cuda = False\n",
    "        self.seed = 1\n",
    "        self.log_interval = 1000\n",
    "        self.save_model = False\n",
    "\n",
    "args = Arguments()\n",
    "\n",
    "# Use CUDA\n",
    "use_cuda = not args.no_cuda and torch.cuda.is_available()\n",
    "\n",
    "# Set seed for computation\n",
    "torch.manual_seed(args.seed)\n",
    "\n",
    "# Create CUDA device\n",
    "device = torch.device(\"cuda\" if use_cuda else \"cpu\")\n",
    "\n",
    "# Additional arguments for CUDA\n",
    "kwargs = {'num_workers': 1, 'pin_memory': True} if use_cuda else {}\n",
    "\n",
    "\n",
    "# Define neural network\n",
    "class Net(nn.Module):\n",
    "    def __init__(self):\n",
    "        super(Net, self).__init__()\n",
    "        self.fc1 = nn.Linear(5, 20)\n",
    "        self.fc2 = nn.Linear(20, 20)\n",
    "        self.fc3 = nn.Linear(20, 1)\n",
    "\n",
    "    def forward(self, x):\n",
    "        x = F.relu(self.fc1(x))\n",
    "        x = F.relu(self.fc2(x))\n",
    "        x = self.fc3(x)\n",
    "        return x"
   ]
  },
  {
   "cell_type": "markdown",
   "metadata": {},
   "source": [
    "# 3. Load And Prepare The Data"
   ]
  },
  {
   "cell_type": "code",
   "execution_count": 3,
   "metadata": {
    "ExecuteTime": {
     "end_time": "2020-03-22T15:08:09.881667Z",
     "start_time": "2020-03-22T15:07:51.710945Z"
    }
   },
   "outputs": [
    {
     "data": {
      "text/html": [
       "<div>\n",
       "<style scoped>\n",
       "    .dataframe tbody tr th:only-of-type {\n",
       "        vertical-align: middle;\n",
       "    }\n",
       "\n",
       "    .dataframe tbody tr th {\n",
       "        vertical-align: top;\n",
       "    }\n",
       "\n",
       "    .dataframe thead th {\n",
       "        text-align: right;\n",
       "    }\n",
       "</style>\n",
       "<table border=\"1\" class=\"dataframe\">\n",
       "  <thead>\n",
       "    <tr style=\"text-align: right;\">\n",
       "      <th></th>\n",
       "      <th>Day</th>\n",
       "      <th>Node</th>\n",
       "      <th>Infected</th>\n",
       "      <th>Immune</th>\n",
       "      <th>Temperature</th>\n",
       "      <th>Distance</th>\n",
       "      <th>Cough</th>\n",
       "      <th>Target</th>\n",
       "    </tr>\n",
       "  </thead>\n",
       "  <tbody>\n",
       "    <tr>\n",
       "      <td>491186</td>\n",
       "      <td>49</td>\n",
       "      <td>1186</td>\n",
       "      <td>False</td>\n",
       "      <td>True</td>\n",
       "      <td>0.380753</td>\n",
       "      <td>-0.082265</td>\n",
       "      <td>False</td>\n",
       "      <td>2.123852</td>\n",
       "    </tr>\n",
       "    <tr>\n",
       "      <td>442104</td>\n",
       "      <td>44</td>\n",
       "      <td>2104</td>\n",
       "      <td>False</td>\n",
       "      <td>True</td>\n",
       "      <td>-0.471312</td>\n",
       "      <td>-0.809691</td>\n",
       "      <td>False</td>\n",
       "      <td>2.376577</td>\n",
       "    </tr>\n",
       "    <tr>\n",
       "      <td>35982</td>\n",
       "      <td>3</td>\n",
       "      <td>5982</td>\n",
       "      <td>False</td>\n",
       "      <td>False</td>\n",
       "      <td>-0.835968</td>\n",
       "      <td>1.152621</td>\n",
       "      <td>False</td>\n",
       "      <td>1.397940</td>\n",
       "    </tr>\n",
       "  </tbody>\n",
       "</table>\n",
       "</div>"
      ],
      "text/plain": [
       "        Day  Node  Infected  Immune  Temperature  Distance  Cough    Target\n",
       "491186   49  1186     False    True     0.380753 -0.082265  False  2.123852\n",
       "442104   44  2104     False    True    -0.471312 -0.809691  False  2.376577\n",
       "35982     3  5982     False   False    -0.835968  1.152621  False  1.397940"
      ]
     },
     "execution_count": 3,
     "metadata": {},
     "output_type": "execute_result"
    }
   ],
   "source": [
    "########## Create Training Dataset ##########\n",
    "# Load the training data\n",
    "df_train = pd.read_csv('data/Trainingset_Simulated_Virus_Outbreak.csv')\n",
    "\n",
    "# Get number of toal infected people per day as prediction label\n",
    "total_infected = df_train.groupby('Day')['Infected'].sum()\n",
    "\n",
    "# Add the target column\n",
    "df_train['Target'] = df_train['Day'].apply(lambda x: total_infected.loc[x])\n",
    "\n",
    "# Transform the regression target \n",
    "df_train['Target'] = df_train['Target'].apply(np.log10)\n",
    "\n",
    "# Transform the data with a standard scaler\n",
    "sc = StandardScaler()\n",
    "df_train[['Temperature', 'Distance']] = sc.fit_transform(df_train[['Temperature', 'Distance']])\n",
    "\n",
    "\n",
    "\n",
    "\n",
    "########## Create Testing Dataset ##########\n",
    "# Load the testing data\n",
    "df_test = pd.read_csv('data/Testingset_Simulated_Virus_Outbreak.csv')\n",
    "\n",
    "# Get number of toal infected people per day as prediction label\n",
    "total_infected = df_test.groupby('Day')['Infected'].sum()\n",
    "\n",
    "# Add the target column\n",
    "df_test['Target'] = df_test['Day'].apply(lambda x: total_infected.loc[x])\n",
    "\n",
    "# Transform the regression target \n",
    "df_test['Target'] = df_test['Target'].apply(np.log10)\n",
    "\n",
    "# Transform the data with a standard scaler\n",
    "df_test[['Temperature', 'Distance']] = sc.transform(df_test[['Temperature', 'Distance']])\n",
    "\n",
    "df_test.sample(3)"
   ]
  },
  {
   "cell_type": "markdown",
   "metadata": {},
   "source": [
    "# 4. Start The Workers And Distribute The Datasets"
   ]
  },
  {
   "cell_type": "code",
   "execution_count": 4,
   "metadata": {
    "ExecuteTime": {
     "end_time": "2020-03-22T15:08:17.058670Z",
     "start_time": "2020-03-22T15:08:09.883782Z"
    }
   },
   "outputs": [
    {
     "name": "stderr",
     "output_type": "stream",
     "text": [
      "500it [00:06, 79.56it/s]\n"
     ]
    }
   ],
   "source": [
    "# Create a hook to devices\n",
    "hook = sy.TorchHook(torch)\n",
    "\n",
    "# Transforms for the data\n",
    "transform = transforms.ToTensor()\n",
    "\n",
    "\n",
    "\n",
    "########## Create Training Workers And Dataset ##########\n",
    "# Number of nodes (Fewer nodes are used since hardware restrictions; all nodes would be optimal)\n",
    "n = 500 # df['Node'].nunique()\n",
    "\n",
    "# Create a virtual training worker for each simulated device\n",
    "training_workers = [sy.VirtualWorker(hook, id=node) for node in range(n)]\n",
    "\n",
    "\n",
    "# Store all distributed datasets\n",
    "datasets_train = []\n",
    "datasets_test = []\n",
    "\n",
    "# Iterate over all training workers\n",
    "for i, worker in tqdm(enumerate(training_workers)):\n",
    "    \n",
    "    # Filter for the workers specific training dataset\n",
    "    y = df_train[df_train['Node']==i]['Target'].values\n",
    "    X = df_train[df_train['Node']==i].drop(['Day', 'Node', 'Target'], axis=1).values\n",
    "\n",
    "    # Transform data to tensors\n",
    "    y = torch.tensor(y)\n",
    "    X = torch.tensor([values.astype(float) for values in X])\n",
    "    \n",
    "    # Store the dataset\n",
    "    datasets_train.append(sy.BaseDataset(X, y, transform=transform).send(worker))\n",
    "    \n",
    "    \n",
    "    # Filter for the workers specific testing dataset\n",
    "    y = df_test[df_test['Node']==i]['Target'].values\n",
    "    X = df_test[df_test['Node']==i].drop(['Day', 'Node', 'Target'], axis=1).values\n",
    "\n",
    "    # Transform data to tensors\n",
    "    y = torch.tensor(y)\n",
    "    X = torch.tensor([values.astype(float) for values in X])\n",
    "    \n",
    "    # Store the dataset\n",
    "    datasets_test.append(sy.BaseDataset(X, y, transform=transform).send(worker))\n",
    "\n",
    "\n",
    "\n",
    "# Create a federated dataset\n",
    "dataset_train_federated = sy.FederatedDataset(datasets_train)\n",
    "\n",
    "# Create a federated loader\n",
    "dataloader_train_federated = sy.FederatedDataLoader(dataset_train_federated, shuffle=True, batch_size=10)\n",
    "\n",
    "\n",
    "# Create a federated dataset\n",
    "dataset_test_federated = sy.FederatedDataset(datasets_test)\n",
    "\n",
    "# Create a federated loader\n",
    "dataloader_test_federated = sy.FederatedDataLoader(dataset_test_federated, shuffle=True, batch_size=10)"
   ]
  },
  {
   "cell_type": "markdown",
   "metadata": {
    "ExecuteTime": {
     "end_time": "2020-03-22T00:11:10.879017Z",
     "start_time": "2020-03-22T00:11:10.874797Z"
    }
   },
   "source": [
    "# 5. Start Training"
   ]
  },
  {
   "cell_type": "code",
   "execution_count": 5,
   "metadata": {
    "ExecuteTime": {
     "end_time": "2020-03-22T15:08:17.071376Z",
     "start_time": "2020-03-22T15:08:17.059867Z"
    }
   },
   "outputs": [],
   "source": [
    "# Define training process\n",
    "def train(args, model, device, federated_train_loader, optimizer, epoch):\n",
    "    \n",
    "    # Accumulate total loss\n",
    "    total_loss = []\n",
    "    \n",
    "    # \n",
    "    model.train()\n",
    "    \n",
    "    # Iterate over the federated training datasets\n",
    "    for batch_idx, (data, target) in enumerate(federated_train_loader):\n",
    "        \n",
    "        # Send the model to the worker of the training batch\n",
    "        model.send(data.location)\n",
    "        \n",
    "        # Move the training tensors to CUDA device\n",
    "        data, target = data.to(device), target.to(device)\n",
    "        \n",
    "        # Set the gradients to zero\n",
    "        optimizer.zero_grad()\n",
    "        \n",
    "        # Pass the data through the model\n",
    "        output = model(data.float())\n",
    "        \n",
    "        # Compute the training loss\n",
    "        #loss = nn.MSELoss(output, target.long())\n",
    "        loss = nn.MSELoss()(output, target.float())\n",
    "        \n",
    "        # Backpropagate the loss through the network\n",
    "        loss.backward()\n",
    "        \n",
    "        # Perform an update of the network\n",
    "        optimizer.step()\n",
    "        \n",
    "        # Return the model\n",
    "        model.get()\n",
    "        \n",
    "        # Return the loss\n",
    "        loss = loss.get()\n",
    "        total_loss.append(loss)\n",
    "        \n",
    "        # Check to create new log entry (Stopped printing for github)\n",
    "        if batch_idx % args.log_interval == 0 or False:\n",
    "            \n",
    "            # Update training process\n",
    "            print('Train Epoch: {} [{}/{} ({:.0f}%)]\\tLoss: {:.6f}'.format(epoch, \n",
    "                                                                           batch_idx * args.batch_size, \n",
    "                                                                           len(federated_train_loader) * args.batch_size,\n",
    "                                                                           100. * batch_idx / len(federated_train_loader), \n",
    "                                                                           loss.item()))\n",
    "        \n",
    "    # Retrieve data from tensors\n",
    "    total_loss = [tensor.cpu().data.numpy() for tensor in total_loss]\n",
    "    \n",
    "    # Return mean loss per batch\n",
    "    mean_loss = np.mean(total_loss) \n",
    "    \n",
    "    # Display mean loss per batch\n",
    "    print('Train Mean Batch Loss: {}'.format(mean_loss))\n",
    "    return mean_loss\n",
    "\n",
    "\n",
    "\n",
    "\n",
    "\n",
    "# Define testing process\n",
    "def test(args, model, device, federated_test_loader):\n",
    "    \n",
    "    # Accumulate total loss\n",
    "    total_loss = []\n",
    "    \n",
    "    # Iterate over the federated training datasets\n",
    "    for batch_idx, (data, target) in enumerate(federated_test_loader):\n",
    "        \n",
    "        # Send the model to the worker of the testing batch\n",
    "        model.send(data.location)\n",
    "        \n",
    "        # Move the testing tensors to CUDA device\n",
    "        data, target = data.to(device), target.to(device)\n",
    "        \n",
    "        # Pass the data through the model\n",
    "        output = model(data.float())\n",
    "        \n",
    "        # Compute and store the testing loss\n",
    "        loss = nn.MSELoss()(output, target.float())\n",
    "        total_loss.append(loss.get())\n",
    "        \n",
    "        # Return the model\n",
    "        model.get()\n",
    "    \n",
    "    \n",
    "    # Retrieve data from tensors\n",
    "    total_loss = [tensor.cpu().data.numpy() for tensor in total_loss]\n",
    "    \n",
    "    # Return mean loss per batch\n",
    "    mean_loss = np.mean(total_loss) \n",
    "    \n",
    "    # Display mean loss per batch\n",
    "    print('Test Mean Batch Loss: {}\\n'.format(mean_loss))\n",
    "    return mean_loss"
   ]
  },
  {
   "cell_type": "code",
   "execution_count": 6,
   "metadata": {
    "ExecuteTime": {
     "end_time": "2020-03-22T15:43:40.096285Z",
     "start_time": "2020-03-22T15:08:17.072892Z"
    },
    "scrolled": true
   },
   "outputs": [
    {
     "name": "stderr",
     "output_type": "stream",
     "text": [
      "/home/morris/anaconda3/lib/python3.7/site-packages/syft/frameworks/torch/tensors/interpreters/native.py:346: UserWarning: Using a target size (torch.Size([10])) that is different to the input size (torch.Size([10, 1])). This will likely lead to incorrect results due to broadcasting. Please ensure they have the same size.\n",
      "  response = command_method(*args, **kwargs)\n"
     ]
    },
    {
     "name": "stdout",
     "output_type": "stream",
     "text": [
      "Train Epoch: 1 [0/160000 (0%)]\tLoss: 11.183391\n",
      "Train Epoch: 1 [64000/160000 (40%)]\tLoss: 0.956630\n",
      "Train Epoch: 1 [128000/160000 (80%)]\tLoss: 0.484454\n",
      "Train Mean Batch Loss: 0.9100412130355835\n",
      "Test Mean Batch Loss: 0.7059358954429626\n",
      "\n",
      "Train Epoch: 2 [0/160000 (0%)]\tLoss: 0.322337\n",
      "Train Epoch: 2 [64000/160000 (40%)]\tLoss: 0.678651\n",
      "Train Epoch: 2 [128000/160000 (80%)]\tLoss: 1.059578\n",
      "Train Mean Batch Loss: 0.869154691696167\n",
      "Test Mean Batch Loss: 0.7043458223342896\n",
      "\n",
      "Train Epoch: 3 [0/160000 (0%)]\tLoss: 0.279500\n",
      "Train Epoch: 3 [64000/160000 (40%)]\tLoss: 1.143875\n",
      "Train Epoch: 3 [128000/160000 (80%)]\tLoss: 0.347220\n",
      "Train Mean Batch Loss: 0.8682422637939453\n",
      "Test Mean Batch Loss: 0.7029758095741272\n",
      "\n",
      "Train Epoch: 4 [0/160000 (0%)]\tLoss: 1.041262\n",
      "Train Epoch: 4 [64000/160000 (40%)]\tLoss: 1.411778\n",
      "Train Epoch: 4 [128000/160000 (80%)]\tLoss: 1.416463\n",
      "Train Mean Batch Loss: 0.8672056794166565\n",
      "Test Mean Batch Loss: 0.702741801738739\n",
      "\n",
      "Train Epoch: 5 [0/160000 (0%)]\tLoss: 1.121305\n",
      "Train Epoch: 5 [64000/160000 (40%)]\tLoss: 0.483529\n",
      "Train Epoch: 5 [128000/160000 (80%)]\tLoss: 1.798934\n",
      "Train Mean Batch Loss: 0.8665351271629333\n",
      "Test Mean Batch Loss: 0.7057918906211853\n",
      "\n",
      "Train Epoch: 6 [0/160000 (0%)]\tLoss: 1.093690\n",
      "Train Epoch: 6 [64000/160000 (40%)]\tLoss: 1.388458\n",
      "Train Epoch: 6 [128000/160000 (80%)]\tLoss: 0.255533\n",
      "Train Mean Batch Loss: 0.8663462996482849\n",
      "Test Mean Batch Loss: 0.7078624963760376\n",
      "\n",
      "Train Epoch: 7 [0/160000 (0%)]\tLoss: 0.302996\n",
      "Train Epoch: 7 [64000/160000 (40%)]\tLoss: 0.648291\n",
      "Train Epoch: 7 [128000/160000 (80%)]\tLoss: 1.051173\n",
      "Train Mean Batch Loss: 0.865715503692627\n",
      "Test Mean Batch Loss: 0.7054814696311951\n",
      "\n",
      "Train Epoch: 8 [0/160000 (0%)]\tLoss: 0.539163\n",
      "Train Epoch: 8 [64000/160000 (40%)]\tLoss: 1.054593\n",
      "Train Epoch: 8 [128000/160000 (80%)]\tLoss: 1.614097\n",
      "Train Mean Batch Loss: 0.865304172039032\n",
      "Test Mean Batch Loss: 0.7068110704421997\n",
      "\n",
      "Train Epoch: 9 [0/160000 (0%)]\tLoss: 0.503660\n",
      "Train Epoch: 9 [64000/160000 (40%)]\tLoss: 1.531835\n",
      "Train Epoch: 9 [128000/160000 (80%)]\tLoss: 1.284210\n",
      "Train Mean Batch Loss: 0.864768922328949\n",
      "Test Mean Batch Loss: 0.7049278616905212\n",
      "\n",
      "Train Epoch: 10 [0/160000 (0%)]\tLoss: 1.320168\n",
      "Train Epoch: 10 [64000/160000 (40%)]\tLoss: 0.672929\n",
      "Train Epoch: 10 [128000/160000 (80%)]\tLoss: 1.244581\n",
      "Train Mean Batch Loss: 0.8644814491271973\n",
      "Test Mean Batch Loss: 0.7044731378555298\n",
      "\n",
      "CPU times: user 35min 19s, sys: 2.7 s, total: 35min 22s\n",
      "Wall time: 35min 23s\n"
     ]
    }
   ],
   "source": [
    "%%time\n",
    "\n",
    "# Create the neural network\n",
    "model = Net().to(device)\n",
    "\n",
    "# Create an optimizer for the network\n",
    "optimizer = optim.SGD(model.parameters(), lr=args.lr)\n",
    "\n",
    "\n",
    "# Store losses for training inspection\n",
    "training_losses = []\n",
    "testing_losses = []\n",
    "\n",
    "# Iterate over all epochs\n",
    "for epoch in range(1, args.epochs + 1):\n",
    "    \n",
    "    # Perform the training\n",
    "    mean_training_loss = train(args, model, device, dataloader_train_federated, optimizer, epoch)\n",
    "    \n",
    "    # Perform the testing\n",
    "    mean_testing_loss = test(args, model, device, dataloader_test_federated)\n",
    "    \n",
    "    # Store losses\n",
    "    training_losses.append(mean_training_loss)\n",
    "    testing_losses.append(mean_testing_loss)"
   ]
  },
  {
   "cell_type": "markdown",
   "metadata": {},
   "source": [
    "# 6. Inspect Training Process"
   ]
  },
  {
   "cell_type": "code",
   "execution_count": 7,
   "metadata": {
    "ExecuteTime": {
     "end_time": "2020-03-22T15:43:40.492536Z",
     "start_time": "2020-03-22T15:43:40.098004Z"
    }
   },
   "outputs": [
    {
     "data": {
      "image/png": "[encoded data removed]",
      "text/plain": [
       "<Figure size 1080x432 with 2 Axes>"
      ]
     },
     "metadata": {
      "needs_background": "light"
     },
     "output_type": "display_data"
    }
   ],
   "source": [
    "# Create a plot for training inspection\n",
    "fig, axs = plt.subplots(2, figsize=(15, 6))\n",
    "\n",
    "# Training losses\n",
    "axs[0].plot(range(len(training_losses)), training_losses)\n",
    "axs[0].set_title('Training Losses')\n",
    "axs[0].set_xlabel('Epochs')\n",
    "axs[0].set_ylabel('MSE')\n",
    "\n",
    "# Testing losses\n",
    "axs[1].plot(range(len(testing_losses)), testing_losses)\n",
    "axs[1].set_title('Testing Losses')\n",
    "axs[1].set_xlabel('Epochs')\n",
    "axs[1].set_ylabel('MSE')\n",
    "\n",
    "plt.tight_layout()\n",
    "plt.savefig('build/Inspecting_Training_Process.png')\n",
    "plt.show()"
   ]
  },
  {
   "cell_type": "code",
   "execution_count": null,
   "metadata": {},
   "outputs": [],
   "source": []
  }
 ],
 "metadata": {
  "kernelspec": {
   "display_name": "Python 3",
   "language": "python",
   "name": "python3"
  },
  "language_info": {
   "codemirror_mode": {
    "name": "ipython",
    "version": 3
   },
   "file_extension": ".py",
   "mimetype": "text/x-python",
   "name": "python",
   "nbconvert_exporter": "python",
   "pygments_lexer": "ipython3",
   "version": "3.7.4"
  }
 },
 "nbformat": 4,
 "nbformat_minor": 2
}
